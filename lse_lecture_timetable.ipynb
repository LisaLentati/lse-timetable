{
 "cells": [
  {
   "cell_type": "code",
   "execution_count": 1,
   "metadata": {},
   "outputs": [],
   "source": [
    "import pandas as pd\n",
    "from bs4 import BeautifulSoup\n",
    "from urllib.request import urlopen as uReq\n",
    "from urllib.request import HTTPError "
   ]
  },
  {
   "cell_type": "code",
   "execution_count": 2,
   "metadata": {},
   "outputs": [],
   "source": [
    "def read_one_page(url):\n",
    "    \"\"\"\n",
    "    Creates the timetable for one course.\n",
    "    \n",
    "    Args:\n",
    "        url (string): the url for the course.\n",
    "\n",
    "    Return: \n",
    "        a dataframe with the course info.\n",
    "    \"\"\"\n",
    "    \n",
    "    page_html = uReq(url)\n",
    "    soup = BeautifulSoup(page_html, 'html.parser')\n",
    "    tables = soup.find_all(\"table\")\n",
    "    tabulka = tables[-1]\n",
    "    \n",
    "    records = [] # store all of the records in this list\n",
    "    for soup_row in tabulka.findAll('tr'):\n",
    "        row = []\n",
    "        for soup_cell in soup_row.findAll('td'):\n",
    "            content = soup_cell.text\n",
    "            row.append(content)\n",
    "        records.append(row)\n",
    "        \n",
    "    return pd.DataFrame(data=records[1:])"
   ]
  },
  {
   "cell_type": "code",
   "execution_count": 3,
   "metadata": {},
   "outputs": [],
   "source": [
    "\n",
    "def create_full_timetable(year=20):\n",
    "    \"\"\"\n",
    "    If year=20, it returns the full timetable for the academic year 2020/2021. \n",
    "    Possible values: [17, 18, 19, 20]\n",
    "    \"\"\"\n",
    "\n",
    "    url_base = 'http://www.lse.ac.uk/school/timetables/lecture_seminar_timetable/lecture_and_seminar_timetable__20' + str(year) + '_' + str(year+1) + '/'\n",
    "\n",
    "    timetable = pd.DataFrame()\n",
    "    i = 0\n",
    "    while True:\n",
    "        i = i + 1\n",
    "        url = url_base + str(i) + '.htm'       \n",
    "        try:\n",
    "            data = read_one_page(url)\n",
    "        except HTTPError:\n",
    "            break        \n",
    "        timetable = timetable.append(data)\n",
    "\n",
    "    timetable = timetable.rename(columns={0: 'Code', 1: 'Title', 2: 'Type', 3: 'Group', 4: 'Day',                                          5: 'Room', 6: 'Start', 7: 'Finish', 8: 'MT Wks', \n",
    "                                          9: 'LT Wks', 10: 'ST Wks'})\n",
    "\n",
    "    valid_course_codes = timetable['Code'].apply(lambda x: len(x) > 3)\n",
    "    return timetable[valid_course_codes]"
   ]
  },
  {
   "cell_type": "code",
   "execution_count": 4,
   "metadata": {},
   "outputs": [],
   "source": [
    "# it takes ~7 mins\n",
    "df = create_full_timetable(19)"
   ]
  },
  {
   "source": [
    "### Examples of reading the timetable"
   ],
   "cell_type": "markdown",
   "metadata": {}
  },
  {
   "cell_type": "code",
   "execution_count": 5,
   "metadata": {},
   "outputs": [
    {
     "output_type": "display_data",
     "data": {
      "text/plain": "    Code                                              Title Type Group  Day  \\\n0  MA423          MA423 Fundamentals of Operations Research  LEC     1  Tue   \n1  MA423          MA423 Fundamentals of Operations Research  LEC     1  Tue   \n2  MA423          MA423 Fundamentals of Operations Research  LEC     1  Tue   \n3  MA423          MA423 Fundamentals of Operations Research  SEM     1  Wed   \n4  MA423          MA423 Fundamentals of Operations Research  SEM     2  Wed   \n0  MA424             MA424 Modelling in Operations Research  LEC     1  Mon   \n1  MA424             MA424 Modelling in Operations Research  SEM     1  Thu   \n2  MA424             MA424 Modelling in Operations Research  SEM     2  Fri   \n3  MA424             MA424 Modelling in Operations Research  WOR     1  Tue   \n4  MA424             MA424 Modelling in Operations Research  WOR     2  Wed   \n0  MA426  MA426 Dissertation in Operations Research &amp; An...  SEM     1  Mon   \n1  MA426  MA426 Dissertation in Operations Research &amp; An...  SEM     1  Thu   \n2  MA426  MA426 Dissertation in Operations Research &amp; An...  SEM     1  Thu   \n3  MA426  MA426 Dissertation in Operations Research &amp; An...  SEM     1  Thu   \n4  MA426  MA426 Dissertation in Operations Research &amp; An...  SEM     1  Thu   \n0  MA427                    MA427 Mathematical Optimisation  LEC     1  Mon   \n1  MA427                    MA427 Mathematical Optimisation  SEM     1  Tue   \n2  MA427                    MA427 Mathematical Optimisation  SEM     2  Tue   \n0  MA428                   MA428 Combinatorial Optimisation  LEC     1  Wed   \n1  MA428                   MA428 Combinatorial Optimisation  LEC     1  Wed   \n2  MA428                   MA428 Combinatorial Optimisation  LEC     1  Wed   \n3  MA428                   MA428 Combinatorial Optimisation  SEM     1  Tue   \n4  MA428                   MA428 Combinatorial Optimisation  SEM     2  Tue   \n0  MA498                  MA498 Dissertation in Mathematics  SEM     1  Thu   \n1  MA498                  MA498 Dissertation in Mathematics  SEM     1  Thu   \n2  MA498                  MA498 Dissertation in Mathematics  SEM     1  Thu   \n3  MA498                  MA498 Dissertation in Mathematics  SEM     1  Thu   \n0  ST449    ST449 Artificial Intelligence and Deep Learning  LEC     1  Wed   \n1  ST449    ST449 Artificial Intelligence and Deep Learning  SEM     1  Fri   \n\n        Room  Start Finish                 MT Wks                 LT Wks  \\\n0   NAB.1.04  13:00  15:00     1,2,3,4,5,7,8,9,10                          \n1  NAB.LG.01  13:00  15:00                      6                          \n2   NAB.1.04  13:00  16:00                                                 \n3   32L.G.15  15:00  16:30  2,3,4,5,6,7,8,9,10,11                          \n4   32L.G.17  12:30  14:00  2,3,4,5,6,7,8,9,10,11                          \n0   CBG.1.03  11:00  13:00   1,2,3,4,5,6,7,8,9,10                          \n1   STC.S018  09:30  11:00     2,3,4,5,6,7,8,9,10                          \n2   FAW.4.03  14:00  15:30     2,3,4,5,6,7,8,9,10                          \n3   FAW.4.03  09:00  11:00     2,3,4,5,6,7,8,9,10                          \n4   STC.S018  09:00  11:00     2,3,4,5,6,7,8,9,10                          \n0   FAW.2.04  14:00  16:00                     11                          \n1   CLM.5.02  16:00  18:00    1,2,4,6,7,8,9,10,11                          \n2   NAB.1.04  16:00  18:00                           1,2,3,5,7,8,9,10,11   \n3    STC.S08  17:00  19:00                                           4,6   \n4   NAB.1.04  16:00  18:00                                                 \n0   FAW.2.04  11:00  13:00                          1,2,3,4,5,6,7,8,9,10   \n1   PAN.1.01  09:00  10:30                         2,3,4,5,6,7,8,9,10,11   \n2   PAN.1.01  10:30  12:00                         2,3,4,5,6,7,8,9,10,11   \n0   FAW.2.04  13:00  15:00                          1,2,3,4,5,6,7,8,9,10   \n1   NAB.1.15  09:30  11:00                                                 \n2   NAB.1.15  14:00  15:30                                                 \n3   32L.G.24  12:30  14:00                         2,3,4,5,6,7,8,9,10,11   \n4   CBG.1.10  16:00  17:30                         2,3,4,5,6,7,8,9,10,11   \n0   CLM.5.02  16:00  18:00    1,2,4,6,7,8,9,10,11                          \n1   NAB.1.04  16:00  18:00                           1,2,3,5,7,8,9,10,11   \n2    STC.S08  17:00  19:00                                           4,6   \n3   NAB.1.04  16:00  18:00                                                 \n0   NAB.1.04  11:00  13:00                         1,2,3,4,5,7,8,9,10,11   \n1  32L.LG.18  14:30  16:00                         1,2,3,4,5,7,8,9,10,11   \n\n  ST Wks  \n0         \n1         \n2      1  \n3         \n4         \n0         \n1         \n2         \n3         \n4         \n0         \n1         \n2         \n3         \n4  1,6,7  \n0      1  \n1         \n2         \n0         \n1      1  \n2      1  \n3         \n4         \n0         \n1         \n2         \n3  1,6,7  \n0         \n1         ",
      "text/html": "<div>\n<style scoped>\n    .dataframe tbody tr th:only-of-type {\n        vertical-align: middle;\n    }\n\n    .dataframe tbody tr th {\n        vertical-align: top;\n    }\n\n    .dataframe thead th {\n        text-align: right;\n    }\n</style>\n<table border=\"1\" class=\"dataframe\">\n  <thead>\n    <tr style=\"text-align: right;\">\n      <th></th>\n      <th>Code</th>\n      <th>Title</th>\n      <th>Type</th>\n      <th>Group</th>\n      <th>Day</th>\n      <th>Room</th>\n      <th>Start</th>\n      <th>Finish</th>\n      <th>MT Wks</th>\n      <th>LT Wks</th>\n      <th>ST Wks</th>\n    </tr>\n  </thead>\n  <tbody>\n    <tr>\n      <th>0</th>\n      <td>MA423</td>\n      <td>MA423 Fundamentals of Operations Research</td>\n      <td>LEC</td>\n      <td>1</td>\n      <td>Tue</td>\n      <td>NAB.1.04</td>\n      <td>13:00</td>\n      <td>15:00</td>\n      <td>1,2,3,4,5,7,8,9,10</td>\n      <td></td>\n      <td></td>\n    </tr>\n    <tr>\n      <th>1</th>\n      <td>MA423</td>\n      <td>MA423 Fundamentals of Operations Research</td>\n      <td>LEC</td>\n      <td>1</td>\n      <td>Tue</td>\n      <td>NAB.LG.01</td>\n      <td>13:00</td>\n      <td>15:00</td>\n      <td>6</td>\n      <td></td>\n      <td></td>\n    </tr>\n    <tr>\n      <th>2</th>\n      <td>MA423</td>\n      <td>MA423 Fundamentals of Operations Research</td>\n      <td>LEC</td>\n      <td>1</td>\n      <td>Tue</td>\n      <td>NAB.1.04</td>\n      <td>13:00</td>\n      <td>16:00</td>\n      <td></td>\n      <td></td>\n      <td>1</td>\n    </tr>\n    <tr>\n      <th>3</th>\n      <td>MA423</td>\n      <td>MA423 Fundamentals of Operations Research</td>\n      <td>SEM</td>\n      <td>1</td>\n      <td>Wed</td>\n      <td>32L.G.15</td>\n      <td>15:00</td>\n      <td>16:30</td>\n      <td>2,3,4,5,6,7,8,9,10,11</td>\n      <td></td>\n      <td></td>\n    </tr>\n    <tr>\n      <th>4</th>\n      <td>MA423</td>\n      <td>MA423 Fundamentals of Operations Research</td>\n      <td>SEM</td>\n      <td>2</td>\n      <td>Wed</td>\n      <td>32L.G.17</td>\n      <td>12:30</td>\n      <td>14:00</td>\n      <td>2,3,4,5,6,7,8,9,10,11</td>\n      <td></td>\n      <td></td>\n    </tr>\n    <tr>\n      <th>0</th>\n      <td>MA424</td>\n      <td>MA424 Modelling in Operations Research</td>\n      <td>LEC</td>\n      <td>1</td>\n      <td>Mon</td>\n      <td>CBG.1.03</td>\n      <td>11:00</td>\n      <td>13:00</td>\n      <td>1,2,3,4,5,6,7,8,9,10</td>\n      <td></td>\n      <td></td>\n    </tr>\n    <tr>\n      <th>1</th>\n      <td>MA424</td>\n      <td>MA424 Modelling in Operations Research</td>\n      <td>SEM</td>\n      <td>1</td>\n      <td>Thu</td>\n      <td>STC.S018</td>\n      <td>09:30</td>\n      <td>11:00</td>\n      <td>2,3,4,5,6,7,8,9,10</td>\n      <td></td>\n      <td></td>\n    </tr>\n    <tr>\n      <th>2</th>\n      <td>MA424</td>\n      <td>MA424 Modelling in Operations Research</td>\n      <td>SEM</td>\n      <td>2</td>\n      <td>Fri</td>\n      <td>FAW.4.03</td>\n      <td>14:00</td>\n      <td>15:30</td>\n      <td>2,3,4,5,6,7,8,9,10</td>\n      <td></td>\n      <td></td>\n    </tr>\n    <tr>\n      <th>3</th>\n      <td>MA424</td>\n      <td>MA424 Modelling in Operations Research</td>\n      <td>WOR</td>\n      <td>1</td>\n      <td>Tue</td>\n      <td>FAW.4.03</td>\n      <td>09:00</td>\n      <td>11:00</td>\n      <td>2,3,4,5,6,7,8,9,10</td>\n      <td></td>\n      <td></td>\n    </tr>\n    <tr>\n      <th>4</th>\n      <td>MA424</td>\n      <td>MA424 Modelling in Operations Research</td>\n      <td>WOR</td>\n      <td>2</td>\n      <td>Wed</td>\n      <td>STC.S018</td>\n      <td>09:00</td>\n      <td>11:00</td>\n      <td>2,3,4,5,6,7,8,9,10</td>\n      <td></td>\n      <td></td>\n    </tr>\n    <tr>\n      <th>0</th>\n      <td>MA426</td>\n      <td>MA426 Dissertation in Operations Research &amp; An...</td>\n      <td>SEM</td>\n      <td>1</td>\n      <td>Mon</td>\n      <td>FAW.2.04</td>\n      <td>14:00</td>\n      <td>16:00</td>\n      <td>11</td>\n      <td></td>\n      <td></td>\n    </tr>\n    <tr>\n      <th>1</th>\n      <td>MA426</td>\n      <td>MA426 Dissertation in Operations Research &amp; An...</td>\n      <td>SEM</td>\n      <td>1</td>\n      <td>Thu</td>\n      <td>CLM.5.02</td>\n      <td>16:00</td>\n      <td>18:00</td>\n      <td>1,2,4,6,7,8,9,10,11</td>\n      <td></td>\n      <td></td>\n    </tr>\n    <tr>\n      <th>2</th>\n      <td>MA426</td>\n      <td>MA426 Dissertation in Operations Research &amp; An...</td>\n      <td>SEM</td>\n      <td>1</td>\n      <td>Thu</td>\n      <td>NAB.1.04</td>\n      <td>16:00</td>\n      <td>18:00</td>\n      <td></td>\n      <td>1,2,3,5,7,8,9,10,11</td>\n      <td></td>\n    </tr>\n    <tr>\n      <th>3</th>\n      <td>MA426</td>\n      <td>MA426 Dissertation in Operations Research &amp; An...</td>\n      <td>SEM</td>\n      <td>1</td>\n      <td>Thu</td>\n      <td>STC.S08</td>\n      <td>17:00</td>\n      <td>19:00</td>\n      <td></td>\n      <td>4,6</td>\n      <td></td>\n    </tr>\n    <tr>\n      <th>4</th>\n      <td>MA426</td>\n      <td>MA426 Dissertation in Operations Research &amp; An...</td>\n      <td>SEM</td>\n      <td>1</td>\n      <td>Thu</td>\n      <td>NAB.1.04</td>\n      <td>16:00</td>\n      <td>18:00</td>\n      <td></td>\n      <td></td>\n      <td>1,6,7</td>\n    </tr>\n    <tr>\n      <th>0</th>\n      <td>MA427</td>\n      <td>MA427 Mathematical Optimisation</td>\n      <td>LEC</td>\n      <td>1</td>\n      <td>Mon</td>\n      <td>FAW.2.04</td>\n      <td>11:00</td>\n      <td>13:00</td>\n      <td></td>\n      <td>1,2,3,4,5,6,7,8,9,10</td>\n      <td>1</td>\n    </tr>\n    <tr>\n      <th>1</th>\n      <td>MA427</td>\n      <td>MA427 Mathematical Optimisation</td>\n      <td>SEM</td>\n      <td>1</td>\n      <td>Tue</td>\n      <td>PAN.1.01</td>\n      <td>09:00</td>\n      <td>10:30</td>\n      <td></td>\n      <td>2,3,4,5,6,7,8,9,10,11</td>\n      <td></td>\n    </tr>\n    <tr>\n      <th>2</th>\n      <td>MA427</td>\n      <td>MA427 Mathematical Optimisation</td>\n      <td>SEM</td>\n      <td>2</td>\n      <td>Tue</td>\n      <td>PAN.1.01</td>\n      <td>10:30</td>\n      <td>12:00</td>\n      <td></td>\n      <td>2,3,4,5,6,7,8,9,10,11</td>\n      <td></td>\n    </tr>\n    <tr>\n      <th>0</th>\n      <td>MA428</td>\n      <td>MA428 Combinatorial Optimisation</td>\n      <td>LEC</td>\n      <td>1</td>\n      <td>Wed</td>\n      <td>FAW.2.04</td>\n      <td>13:00</td>\n      <td>15:00</td>\n      <td></td>\n      <td>1,2,3,4,5,6,7,8,9,10</td>\n      <td></td>\n    </tr>\n    <tr>\n      <th>1</th>\n      <td>MA428</td>\n      <td>MA428 Combinatorial Optimisation</td>\n      <td>LEC</td>\n      <td>1</td>\n      <td>Wed</td>\n      <td>NAB.1.15</td>\n      <td>09:30</td>\n      <td>11:00</td>\n      <td></td>\n      <td></td>\n      <td>1</td>\n    </tr>\n    <tr>\n      <th>2</th>\n      <td>MA428</td>\n      <td>MA428 Combinatorial Optimisation</td>\n      <td>LEC</td>\n      <td>1</td>\n      <td>Wed</td>\n      <td>NAB.1.15</td>\n      <td>14:00</td>\n      <td>15:30</td>\n      <td></td>\n      <td></td>\n      <td>1</td>\n    </tr>\n    <tr>\n      <th>3</th>\n      <td>MA428</td>\n      <td>MA428 Combinatorial Optimisation</td>\n      <td>SEM</td>\n      <td>1</td>\n      <td>Tue</td>\n      <td>32L.G.24</td>\n      <td>12:30</td>\n      <td>14:00</td>\n      <td></td>\n      <td>2,3,4,5,6,7,8,9,10,11</td>\n      <td></td>\n    </tr>\n    <tr>\n      <th>4</th>\n      <td>MA428</td>\n      <td>MA428 Combinatorial Optimisation</td>\n      <td>SEM</td>\n      <td>2</td>\n      <td>Tue</td>\n      <td>CBG.1.10</td>\n      <td>16:00</td>\n      <td>17:30</td>\n      <td></td>\n      <td>2,3,4,5,6,7,8,9,10,11</td>\n      <td></td>\n    </tr>\n    <tr>\n      <th>0</th>\n      <td>MA498</td>\n      <td>MA498 Dissertation in Mathematics</td>\n      <td>SEM</td>\n      <td>1</td>\n      <td>Thu</td>\n      <td>CLM.5.02</td>\n      <td>16:00</td>\n      <td>18:00</td>\n      <td>1,2,4,6,7,8,9,10,11</td>\n      <td></td>\n      <td></td>\n    </tr>\n    <tr>\n      <th>1</th>\n      <td>MA498</td>\n      <td>MA498 Dissertation in Mathematics</td>\n      <td>SEM</td>\n      <td>1</td>\n      <td>Thu</td>\n      <td>NAB.1.04</td>\n      <td>16:00</td>\n      <td>18:00</td>\n      <td></td>\n      <td>1,2,3,5,7,8,9,10,11</td>\n      <td></td>\n    </tr>\n    <tr>\n      <th>2</th>\n      <td>MA498</td>\n      <td>MA498 Dissertation in Mathematics</td>\n      <td>SEM</td>\n      <td>1</td>\n      <td>Thu</td>\n      <td>STC.S08</td>\n      <td>17:00</td>\n      <td>19:00</td>\n      <td></td>\n      <td>4,6</td>\n      <td></td>\n    </tr>\n    <tr>\n      <th>3</th>\n      <td>MA498</td>\n      <td>MA498 Dissertation in Mathematics</td>\n      <td>SEM</td>\n      <td>1</td>\n      <td>Thu</td>\n      <td>NAB.1.04</td>\n      <td>16:00</td>\n      <td>18:00</td>\n      <td></td>\n      <td></td>\n      <td>1,6,7</td>\n    </tr>\n    <tr>\n      <th>0</th>\n      <td>ST449</td>\n      <td>ST449 Artificial Intelligence and Deep Learning</td>\n      <td>LEC</td>\n      <td>1</td>\n      <td>Wed</td>\n      <td>NAB.1.04</td>\n      <td>11:00</td>\n      <td>13:00</td>\n      <td></td>\n      <td>1,2,3,4,5,7,8,9,10,11</td>\n      <td></td>\n    </tr>\n    <tr>\n      <th>1</th>\n      <td>ST449</td>\n      <td>ST449 Artificial Intelligence and Deep Learning</td>\n      <td>SEM</td>\n      <td>1</td>\n      <td>Fri</td>\n      <td>32L.LG.18</td>\n      <td>14:30</td>\n      <td>16:00</td>\n      <td></td>\n      <td>1,2,3,4,5,7,8,9,10,11</td>\n      <td></td>\n    </tr>\n  </tbody>\n</table>\n</div>"
     },
     "metadata": {}
    }
   ],
   "source": [
    "# display timetable for specific courses\n",
    "\n",
    "selected_course = ['MA423', 'MA424', 'MA427', 'MA428', 'ST449', 'MA498', 'MA426']\n",
    "mask0 = df['Code'].isin(selected_course)\n",
    "\n",
    "selection = df[mask0]\n",
    "display(selection)"
   ]
  },
  {
   "cell_type": "code",
   "execution_count": 6,
   "metadata": {},
   "outputs": [
    {
     "output_type": "display_data",
     "data": {
      "text/plain": "     Code                                             Title Type Group  Day  \\\n0   AC411            AC411 Accounting, Strategy and Control  SEM     1  Wed   \n1   AC411            AC411 Accounting, Strategy and Control  SEM     1  Mon   \n2   AC411            AC411 Accounting, Strategy and Control  SEM     1  Wed   \n3   AC411            AC411 Accounting, Strategy and Control  SEM     1  Mon   \n4   AC411            AC411 Accounting, Strategy and Control  SEM     1  Mon   \n..    ...                                               ...  ...   ...  ...   \n2   ST452   ST452 Probability and Mathematical Statistics I  SEM     1  Wed   \n3   ST452   ST452 Probability and Mathematical Statistics I  SEM     1  Thu   \n4   ST452   ST452 Probability and Mathematical Statistics I  SEM     1  Wed   \n0   ST453  ST453 Probability and Mathematical Statistics II  LEC     1  Fri   \n1   ST453  ST453 Probability and Mathematical Statistics II  SEM     1  Fri   \n\n        Room  Start Finish           MT Wks                 LT Wks ST Wks  \n0   PAR.2.03  08:30  10:00               11                                \n1   PAR.2.03  08:30  10:00        2,3,4,5,6                                \n2   PAR.2.03  08:30  10:00    2,3,4,5,6,7,8                                \n3   PAR.2.03  08:30  10:00              7,8                                \n4   PAR.2.03  08:30  10:00          9,10,11                                \n..       ...    ...    ...              ...                    ...    ...  \n2   32L.G.06  14:00  15:00               11                                \n3   32L.G.02  14:00  15:00               10                                \n4   32L.G.06  14:00  15:00  2,3,4,5,6,7,8,9                                \n0   NAB.1.19  12:00  14:00                   1,2,3,4,5,7,8,9,10,11         \n1   NAB.1.19  16:00  17:00                   1,2,3,4,5,7,8,9,10,11         \n\n[5705 rows x 11 columns]",
      "text/html": "<div>\n<style scoped>\n    .dataframe tbody tr th:only-of-type {\n        vertical-align: middle;\n    }\n\n    .dataframe tbody tr th {\n        vertical-align: top;\n    }\n\n    .dataframe thead th {\n        text-align: right;\n    }\n</style>\n<table border=\"1\" class=\"dataframe\">\n  <thead>\n    <tr style=\"text-align: right;\">\n      <th></th>\n      <th>Code</th>\n      <th>Title</th>\n      <th>Type</th>\n      <th>Group</th>\n      <th>Day</th>\n      <th>Room</th>\n      <th>Start</th>\n      <th>Finish</th>\n      <th>MT Wks</th>\n      <th>LT Wks</th>\n      <th>ST Wks</th>\n    </tr>\n  </thead>\n  <tbody>\n    <tr>\n      <th>0</th>\n      <td>AC411</td>\n      <td>AC411 Accounting, Strategy and Control</td>\n      <td>SEM</td>\n      <td>1</td>\n      <td>Wed</td>\n      <td>PAR.2.03</td>\n      <td>08:30</td>\n      <td>10:00</td>\n      <td>11</td>\n      <td></td>\n      <td></td>\n    </tr>\n    <tr>\n      <th>1</th>\n      <td>AC411</td>\n      <td>AC411 Accounting, Strategy and Control</td>\n      <td>SEM</td>\n      <td>1</td>\n      <td>Mon</td>\n      <td>PAR.2.03</td>\n      <td>08:30</td>\n      <td>10:00</td>\n      <td>2,3,4,5,6</td>\n      <td></td>\n      <td></td>\n    </tr>\n    <tr>\n      <th>2</th>\n      <td>AC411</td>\n      <td>AC411 Accounting, Strategy and Control</td>\n      <td>SEM</td>\n      <td>1</td>\n      <td>Wed</td>\n      <td>PAR.2.03</td>\n      <td>08:30</td>\n      <td>10:00</td>\n      <td>2,3,4,5,6,7,8</td>\n      <td></td>\n      <td></td>\n    </tr>\n    <tr>\n      <th>3</th>\n      <td>AC411</td>\n      <td>AC411 Accounting, Strategy and Control</td>\n      <td>SEM</td>\n      <td>1</td>\n      <td>Mon</td>\n      <td>PAR.2.03</td>\n      <td>08:30</td>\n      <td>10:00</td>\n      <td>7,8</td>\n      <td></td>\n      <td></td>\n    </tr>\n    <tr>\n      <th>4</th>\n      <td>AC411</td>\n      <td>AC411 Accounting, Strategy and Control</td>\n      <td>SEM</td>\n      <td>1</td>\n      <td>Mon</td>\n      <td>PAR.2.03</td>\n      <td>08:30</td>\n      <td>10:00</td>\n      <td>9,10,11</td>\n      <td></td>\n      <td></td>\n    </tr>\n    <tr>\n      <th>...</th>\n      <td>...</td>\n      <td>...</td>\n      <td>...</td>\n      <td>...</td>\n      <td>...</td>\n      <td>...</td>\n      <td>...</td>\n      <td>...</td>\n      <td>...</td>\n      <td>...</td>\n      <td>...</td>\n    </tr>\n    <tr>\n      <th>2</th>\n      <td>ST452</td>\n      <td>ST452 Probability and Mathematical Statistics I</td>\n      <td>SEM</td>\n      <td>1</td>\n      <td>Wed</td>\n      <td>32L.G.06</td>\n      <td>14:00</td>\n      <td>15:00</td>\n      <td>11</td>\n      <td></td>\n      <td></td>\n    </tr>\n    <tr>\n      <th>3</th>\n      <td>ST452</td>\n      <td>ST452 Probability and Mathematical Statistics I</td>\n      <td>SEM</td>\n      <td>1</td>\n      <td>Thu</td>\n      <td>32L.G.02</td>\n      <td>14:00</td>\n      <td>15:00</td>\n      <td>10</td>\n      <td></td>\n      <td></td>\n    </tr>\n    <tr>\n      <th>4</th>\n      <td>ST452</td>\n      <td>ST452 Probability and Mathematical Statistics I</td>\n      <td>SEM</td>\n      <td>1</td>\n      <td>Wed</td>\n      <td>32L.G.06</td>\n      <td>14:00</td>\n      <td>15:00</td>\n      <td>2,3,4,5,6,7,8,9</td>\n      <td></td>\n      <td></td>\n    </tr>\n    <tr>\n      <th>0</th>\n      <td>ST453</td>\n      <td>ST453 Probability and Mathematical Statistics II</td>\n      <td>LEC</td>\n      <td>1</td>\n      <td>Fri</td>\n      <td>NAB.1.19</td>\n      <td>12:00</td>\n      <td>14:00</td>\n      <td></td>\n      <td>1,2,3,4,5,7,8,9,10,11</td>\n      <td></td>\n    </tr>\n    <tr>\n      <th>1</th>\n      <td>ST453</td>\n      <td>ST453 Probability and Mathematical Statistics II</td>\n      <td>SEM</td>\n      <td>1</td>\n      <td>Fri</td>\n      <td>NAB.1.19</td>\n      <td>16:00</td>\n      <td>17:00</td>\n      <td></td>\n      <td>1,2,3,4,5,7,8,9,10,11</td>\n      <td></td>\n    </tr>\n  </tbody>\n</table>\n<p>5705 rows × 11 columns</p>\n</div>"
     },
     "metadata": {}
    }
   ],
   "source": [
    "# display timetable for all 4th year courses\n",
    "\n",
    "year = 4    # other options are 1, 2 and 3\n",
    "\n",
    "mask1 = df['Code'].apply(lambda x: x[2]==str(year))\n",
    "selection = df[mask1]\n",
    "display(selection)"
   ]
  },
  {
   "cell_type": "code",
   "execution_count": 7,
   "metadata": {},
   "outputs": [
    {
     "output_type": "display_data",
     "data": {
      "text/plain": "     Code                                              Title Type Group  Day  \\\n0   PH101                                        PH101 Logic  LEC     1  Mon   \n1   PH101                                        PH101 Logic  LEC     1  Mon   \n0   PH103  PH103 The Big Questions: An Introduction to Ph...  LEC     1  Tue   \n1   PH103  PH103 The Big Questions: An Introduction to Ph...  LEC     1  Tue   \n2   PH103  PH103 The Big Questions: An Introduction to Ph...  LEC     1  Tue   \n..    ...                                                ...  ...   ...  ...   \n1   PH502                          PH502 Reasoning and Logic  LEC     1  Mon   \n0   PH551  PH551 Research Seminar in the Philosophy of Na...  SEM     1  Mon   \n0   PH555  PH555 Research Seminar in the Philosophy of Ec...  SEM     1  Wed   \n1   PH555  PH555 Research Seminar in the Philosophy of Ec...  SEM     1  Wed   \n2   PH555  PH555 Research Seminar in the Philosophy of Ec...  SEM     1  Wed   \n\n         Room  Start Finish                   MT Wks                 LT Wks  \\\n0    CLM.G.02  12:00  13:00    1,2,3,4,5,7,8,9,10,11  1,2,3,4,5,7,8,9,10,11   \n1          OT  09:00  10:00               2,3,4,9,10             2,3,4,9,10   \n0   CBG.B1.02  13:00  14:00                    10,11  1,2,3,4,5,7,8,9,10,11   \n1   CBG.B1.02  13:00  14:00                      1,2                          \n2   CBG.B1.02  13:00  14:00                      3,4                          \n..        ...    ...    ...                      ...                    ...   \n1          OT  09:00  10:00               2,3,4,9,10             2,3,4,9,10   \n0    LAK.2.06  14:00  15:30  1,2,3,4,5,6,7,8,9,10,11   1,2,3,4,5,6,7,8,9,10   \n0    LAK.2.06  16:00  18:00    1,2,3,4,5,7,8,9,10,11                          \n1    LAK.2.06  16:00  18:00                           1,2,3,4,5,7,8,9,10,11   \n2    LAK.2.06  16:00  18:00                                                   \n\n             ST Wks  \n0                    \n1                    \n0                    \n1                    \n2                    \n..              ...  \n1                    \n0   1,2,3,4,5,6,7,8  \n0                    \n1                    \n2     1,2,3,4,5,6,7  \n\n[163 rows x 11 columns]",
      "text/html": "<div>\n<style scoped>\n    .dataframe tbody tr th:only-of-type {\n        vertical-align: middle;\n    }\n\n    .dataframe tbody tr th {\n        vertical-align: top;\n    }\n\n    .dataframe thead th {\n        text-align: right;\n    }\n</style>\n<table border=\"1\" class=\"dataframe\">\n  <thead>\n    <tr style=\"text-align: right;\">\n      <th></th>\n      <th>Code</th>\n      <th>Title</th>\n      <th>Type</th>\n      <th>Group</th>\n      <th>Day</th>\n      <th>Room</th>\n      <th>Start</th>\n      <th>Finish</th>\n      <th>MT Wks</th>\n      <th>LT Wks</th>\n      <th>ST Wks</th>\n    </tr>\n  </thead>\n  <tbody>\n    <tr>\n      <th>0</th>\n      <td>PH101</td>\n      <td>PH101 Logic</td>\n      <td>LEC</td>\n      <td>1</td>\n      <td>Mon</td>\n      <td>CLM.G.02</td>\n      <td>12:00</td>\n      <td>13:00</td>\n      <td>1,2,3,4,5,7,8,9,10,11</td>\n      <td>1,2,3,4,5,7,8,9,10,11</td>\n      <td></td>\n    </tr>\n    <tr>\n      <th>1</th>\n      <td>PH101</td>\n      <td>PH101 Logic</td>\n      <td>LEC</td>\n      <td>1</td>\n      <td>Mon</td>\n      <td>OT</td>\n      <td>09:00</td>\n      <td>10:00</td>\n      <td>2,3,4,9,10</td>\n      <td>2,3,4,9,10</td>\n      <td></td>\n    </tr>\n    <tr>\n      <th>0</th>\n      <td>PH103</td>\n      <td>PH103 The Big Questions: An Introduction to Ph...</td>\n      <td>LEC</td>\n      <td>1</td>\n      <td>Tue</td>\n      <td>CBG.B1.02</td>\n      <td>13:00</td>\n      <td>14:00</td>\n      <td>10,11</td>\n      <td>1,2,3,4,5,7,8,9,10,11</td>\n      <td></td>\n    </tr>\n    <tr>\n      <th>1</th>\n      <td>PH103</td>\n      <td>PH103 The Big Questions: An Introduction to Ph...</td>\n      <td>LEC</td>\n      <td>1</td>\n      <td>Tue</td>\n      <td>CBG.B1.02</td>\n      <td>13:00</td>\n      <td>14:00</td>\n      <td>1,2</td>\n      <td></td>\n      <td></td>\n    </tr>\n    <tr>\n      <th>2</th>\n      <td>PH103</td>\n      <td>PH103 The Big Questions: An Introduction to Ph...</td>\n      <td>LEC</td>\n      <td>1</td>\n      <td>Tue</td>\n      <td>CBG.B1.02</td>\n      <td>13:00</td>\n      <td>14:00</td>\n      <td>3,4</td>\n      <td></td>\n      <td></td>\n    </tr>\n    <tr>\n      <th>...</th>\n      <td>...</td>\n      <td>...</td>\n      <td>...</td>\n      <td>...</td>\n      <td>...</td>\n      <td>...</td>\n      <td>...</td>\n      <td>...</td>\n      <td>...</td>\n      <td>...</td>\n      <td>...</td>\n    </tr>\n    <tr>\n      <th>1</th>\n      <td>PH502</td>\n      <td>PH502 Reasoning and Logic</td>\n      <td>LEC</td>\n      <td>1</td>\n      <td>Mon</td>\n      <td>OT</td>\n      <td>09:00</td>\n      <td>10:00</td>\n      <td>2,3,4,9,10</td>\n      <td>2,3,4,9,10</td>\n      <td></td>\n    </tr>\n    <tr>\n      <th>0</th>\n      <td>PH551</td>\n      <td>PH551 Research Seminar in the Philosophy of Na...</td>\n      <td>SEM</td>\n      <td>1</td>\n      <td>Mon</td>\n      <td>LAK.2.06</td>\n      <td>14:00</td>\n      <td>15:30</td>\n      <td>1,2,3,4,5,6,7,8,9,10,11</td>\n      <td>1,2,3,4,5,6,7,8,9,10</td>\n      <td>1,2,3,4,5,6,7,8</td>\n    </tr>\n    <tr>\n      <th>0</th>\n      <td>PH555</td>\n      <td>PH555 Research Seminar in the Philosophy of Ec...</td>\n      <td>SEM</td>\n      <td>1</td>\n      <td>Wed</td>\n      <td>LAK.2.06</td>\n      <td>16:00</td>\n      <td>18:00</td>\n      <td>1,2,3,4,5,7,8,9,10,11</td>\n      <td></td>\n      <td></td>\n    </tr>\n    <tr>\n      <th>1</th>\n      <td>PH555</td>\n      <td>PH555 Research Seminar in the Philosophy of Ec...</td>\n      <td>SEM</td>\n      <td>1</td>\n      <td>Wed</td>\n      <td>LAK.2.06</td>\n      <td>16:00</td>\n      <td>18:00</td>\n      <td></td>\n      <td>1,2,3,4,5,7,8,9,10,11</td>\n      <td></td>\n    </tr>\n    <tr>\n      <th>2</th>\n      <td>PH555</td>\n      <td>PH555 Research Seminar in the Philosophy of Ec...</td>\n      <td>SEM</td>\n      <td>1</td>\n      <td>Wed</td>\n      <td>LAK.2.06</td>\n      <td>16:00</td>\n      <td>18:00</td>\n      <td></td>\n      <td></td>\n      <td>1,2,3,4,5,6,7</td>\n    </tr>\n  </tbody>\n</table>\n<p>163 rows × 11 columns</p>\n</div>"
     },
     "metadata": {}
    }
   ],
   "source": [
    "# display timetable for all Philosophy courses\n",
    "\n",
    "subject = 'PH'   # other options are 'MA', 'ST', 'GV', 'LL' etc.\n",
    "\n",
    "mask2 = df['Code'].apply(lambda x: x[:2] in [subject])\n",
    "selection = df[mask2]\n",
    "display(selection)"
   ]
  },
  {
   "cell_type": "code",
   "execution_count": 8,
   "metadata": {},
   "outputs": [
    {
     "output_type": "display_data",
     "data": {
      "text/plain": "     Code                        Title Type Group  Day       Room  Start  \\\n0   PH400  PH400 Philosophy of Science  LEC     1  Mon  NAB.LG.03  12:00   \n1   PH400  PH400 Philosophy of Science  LEC     1  Mon   NAB.2.04  12:00   \n2   PH400  PH400 Philosophy of Science  SEM     1  Tue   PAN.3.02  16:00   \n3   PH400  PH400 Philosophy of Science  SEM     1  Tue   PAN.3.02  16:00   \n4   PH400  PH400 Philosophy of Science  SEM     1  Fri   32L.G.09  09:00   \n..    ...                          ...  ...   ...  ...        ...    ...   \n2   PH458    PH458 Evidence and Policy  SEM     1  Wed   CBG.1.10  17:00   \n3   PH458    PH458 Evidence and Policy  SEM     2  Thu   PAN.1.04  15:00   \n4   PH458    PH458 Evidence and Policy  SEM     2  Wed   32L.G.20  10:30   \n5   PH458    PH458 Evidence and Policy  SEM     3  Thu   PAN.1.04  13:30   \n6   PH458    PH458 Evidence and Policy  SEM     3  Tue   NAB.2.06  14:30   \n\n   Finish                 MT Wks                 LT Wks ST Wks  \n0   13:00  1,2,3,4,5,7,8,9,10,11                                \n1   13:00                         1,2,3,4,5,7,8,9,10,11         \n2   17:30  1,2,3,4,5,7,8,9,10,11                                \n3   17:30                         1,2,3,4,5,7,8,9,10,11         \n4   10:30                                            11         \n..    ...                    ...                    ...    ...  \n2   18:30                      5                                \n3   16:30    1,2,3,5,7,8,9,10,11                                \n4   12:00                      5                                \n5   15:00    1,2,3,5,7,8,9,10,11                                \n6   16:00                      5                                \n\n[98 rows x 11 columns]",
      "text/html": "<div>\n<style scoped>\n    .dataframe tbody tr th:only-of-type {\n        vertical-align: middle;\n    }\n\n    .dataframe tbody tr th {\n        vertical-align: top;\n    }\n\n    .dataframe thead th {\n        text-align: right;\n    }\n</style>\n<table border=\"1\" class=\"dataframe\">\n  <thead>\n    <tr style=\"text-align: right;\">\n      <th></th>\n      <th>Code</th>\n      <th>Title</th>\n      <th>Type</th>\n      <th>Group</th>\n      <th>Day</th>\n      <th>Room</th>\n      <th>Start</th>\n      <th>Finish</th>\n      <th>MT Wks</th>\n      <th>LT Wks</th>\n      <th>ST Wks</th>\n    </tr>\n  </thead>\n  <tbody>\n    <tr>\n      <th>0</th>\n      <td>PH400</td>\n      <td>PH400 Philosophy of Science</td>\n      <td>LEC</td>\n      <td>1</td>\n      <td>Mon</td>\n      <td>NAB.LG.03</td>\n      <td>12:00</td>\n      <td>13:00</td>\n      <td>1,2,3,4,5,7,8,9,10,11</td>\n      <td></td>\n      <td></td>\n    </tr>\n    <tr>\n      <th>1</th>\n      <td>PH400</td>\n      <td>PH400 Philosophy of Science</td>\n      <td>LEC</td>\n      <td>1</td>\n      <td>Mon</td>\n      <td>NAB.2.04</td>\n      <td>12:00</td>\n      <td>13:00</td>\n      <td></td>\n      <td>1,2,3,4,5,7,8,9,10,11</td>\n      <td></td>\n    </tr>\n    <tr>\n      <th>2</th>\n      <td>PH400</td>\n      <td>PH400 Philosophy of Science</td>\n      <td>SEM</td>\n      <td>1</td>\n      <td>Tue</td>\n      <td>PAN.3.02</td>\n      <td>16:00</td>\n      <td>17:30</td>\n      <td>1,2,3,4,5,7,8,9,10,11</td>\n      <td></td>\n      <td></td>\n    </tr>\n    <tr>\n      <th>3</th>\n      <td>PH400</td>\n      <td>PH400 Philosophy of Science</td>\n      <td>SEM</td>\n      <td>1</td>\n      <td>Tue</td>\n      <td>PAN.3.02</td>\n      <td>16:00</td>\n      <td>17:30</td>\n      <td></td>\n      <td>1,2,3,4,5,7,8,9,10,11</td>\n      <td></td>\n    </tr>\n    <tr>\n      <th>4</th>\n      <td>PH400</td>\n      <td>PH400 Philosophy of Science</td>\n      <td>SEM</td>\n      <td>1</td>\n      <td>Fri</td>\n      <td>32L.G.09</td>\n      <td>09:00</td>\n      <td>10:30</td>\n      <td></td>\n      <td>11</td>\n      <td></td>\n    </tr>\n    <tr>\n      <th>...</th>\n      <td>...</td>\n      <td>...</td>\n      <td>...</td>\n      <td>...</td>\n      <td>...</td>\n      <td>...</td>\n      <td>...</td>\n      <td>...</td>\n      <td>...</td>\n      <td>...</td>\n      <td>...</td>\n    </tr>\n    <tr>\n      <th>2</th>\n      <td>PH458</td>\n      <td>PH458 Evidence and Policy</td>\n      <td>SEM</td>\n      <td>1</td>\n      <td>Wed</td>\n      <td>CBG.1.10</td>\n      <td>17:00</td>\n      <td>18:30</td>\n      <td>5</td>\n      <td></td>\n      <td></td>\n    </tr>\n    <tr>\n      <th>3</th>\n      <td>PH458</td>\n      <td>PH458 Evidence and Policy</td>\n      <td>SEM</td>\n      <td>2</td>\n      <td>Thu</td>\n      <td>PAN.1.04</td>\n      <td>15:00</td>\n      <td>16:30</td>\n      <td>1,2,3,5,7,8,9,10,11</td>\n      <td></td>\n      <td></td>\n    </tr>\n    <tr>\n      <th>4</th>\n      <td>PH458</td>\n      <td>PH458 Evidence and Policy</td>\n      <td>SEM</td>\n      <td>2</td>\n      <td>Wed</td>\n      <td>32L.G.20</td>\n      <td>10:30</td>\n      <td>12:00</td>\n      <td>5</td>\n      <td></td>\n      <td></td>\n    </tr>\n    <tr>\n      <th>5</th>\n      <td>PH458</td>\n      <td>PH458 Evidence and Policy</td>\n      <td>SEM</td>\n      <td>3</td>\n      <td>Thu</td>\n      <td>PAN.1.04</td>\n      <td>13:30</td>\n      <td>15:00</td>\n      <td>1,2,3,5,7,8,9,10,11</td>\n      <td></td>\n      <td></td>\n    </tr>\n    <tr>\n      <th>6</th>\n      <td>PH458</td>\n      <td>PH458 Evidence and Policy</td>\n      <td>SEM</td>\n      <td>3</td>\n      <td>Tue</td>\n      <td>NAB.2.06</td>\n      <td>14:30</td>\n      <td>16:00</td>\n      <td>5</td>\n      <td></td>\n      <td></td>\n    </tr>\n  </tbody>\n</table>\n<p>98 rows × 11 columns</p>\n</div>"
     },
     "metadata": {}
    }
   ],
   "source": [
    "# display timetable for all Philosophy 4th year courses\n",
    "\n",
    "mask2 = df['Code'].apply(lambda x: x[:2] in [subject])\n",
    "selection = df[mask1 & mask2]\n",
    "display(selection)"
   ]
  },
  {
   "cell_type": "code",
   "execution_count": null,
   "metadata": {},
   "outputs": [],
   "source": []
  }
 ],
 "metadata": {
  "kernelspec": {
   "display_name": "Python 3",
   "language": "python",
   "name": "python3"
  },
  "language_info": {
   "codemirror_mode": {
    "name": "ipython",
    "version": 3
   },
   "file_extension": ".py",
   "mimetype": "text/x-python",
   "name": "python",
   "nbconvert_exporter": "python",
   "pygments_lexer": "ipython3",
   "version": "3.7.1-final"
  }
 },
 "nbformat": 4,
 "nbformat_minor": 2
}