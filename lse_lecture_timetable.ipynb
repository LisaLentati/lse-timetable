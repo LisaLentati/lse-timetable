{
 "cells": [
  {
   "cell_type": "code",
   "execution_count": 1,
   "metadata": {},
   "outputs": [],
   "source": [
    "import pandas as pd\n",
    "from bs4 import BeautifulSoup\n",
    "from urllib.request import urlopen as uReq\n",
    "from urllib.request import HTTPError "
   ]
  },
  {
   "cell_type": "code",
   "execution_count": 2,
   "metadata": {},
   "outputs": [],
   "source": [
    "def read_one_page(url):\n",
    "    \"\"\"\n",
    "    Creates the timetable for one course.\n",
    "    \n",
    "    Args:\n",
    "        url (string): the url for the course.\n",
    "\n",
    "    Return: \n",
    "        a dataframe with the course info.\n",
    "    \"\"\"\n",
    "    \n",
    "    page_html = uReq(url)\n",
    "    soup = BeautifulSoup(page_html, 'html.parser')\n",
    "    tables = soup.find_all(\"table\")\n",
    "    tabulka = tables[-1]\n",
    "    \n",
    "    records = [] # store all of the records in this list\n",
    "    for soup_row in tabulka.findAll('tr'):\n",
    "        row = []\n",
    "        for soup_cell in soup_row.findAll('td'):\n",
    "            content = soup_cell.text\n",
    "            row.append(content)\n",
    "        records.append(row)\n",
    "        \n",
    "    return pd.DataFrame(data=records[1:])"
   ]
  },
  {
   "cell_type": "code",
   "execution_count": 3,
   "metadata": {},
   "outputs": [],
   "source": [
    "\n",
    "def create_full_timetable(year=20):\n",
    "    \"\"\"\n",
    "    If year=20, it returns the full timetable for the academic year 2020/2021. \n",
    "    Possible values: [17, 18, 19, 20]\n",
    "    \"\"\"\n",
    "\n",
    "    url_base = 'http://www.lse.ac.uk/school/timetables/lecture_seminar_timetable/lecture_and_seminar_timetable__20' + str(year) + '_' + str(year+1) + '/'\n",
    "\n",
    "    timetable = pd.DataFrame()\n",
    "    i = 0\n",
    "    while True:\n",
    "        i = i + 1\n",
    "        url = url_base + str(i) + '.htm'       \n",
    "        try:\n",
    "            data = read_one_page(url)\n",
    "        except HTTPError:\n",
    "            break        \n",
    "        timetable = timetable.append(data)\n",
    "\n",
    "    timetable = timetable.rename(columns={0: 'Code', 1: 'Title', 2: 'Type', 3: 'Group', 4: 'Day',                                          5: 'Room', 6: 'Start', 7: 'Finish', 8: 'MT Wks', \n",
    "                                          9: 'LT Wks', 10: 'ST Wks'})\n",
    "\n",
    "    valid_course_codes = timetable['Code'].apply(lambda x: len(x) > 3)\n",
    "    return timetable[valid_course_codes]"
   ]
  },
  {
   "cell_type": "code",
   "execution_count": 4,
   "metadata": {},
   "outputs": [],
   "source": [
    "# it takes ~7 mins\n",
    "df = create_full_timetable(19)"
   ]
  },
  {
   "source": [
    "### Examples of reading the timetable"
   ],
   "cell_type": "markdown",
   "metadata": {}
  },
  {
   "cell_type": "code",
   "execution_count": 5,
   "metadata": {},
   "outputs": [
    {
     "output_type": "display_data",
     "data": {
      "text/plain": "    Code                                              Title Type Group  Day  \\\n0  MA423          MA423 Fundamentals of Operations Research  LEC     1  Tue   \n1  MA423          MA423 Fundamentals of Operations Research  LEC     1  Tue   \n2  MA423          MA423 Fundamentals of Operations Research  LEC     1  Tue   \n3  MA423          MA423 Fundamentals of Operations Research  SEM     1  Wed   \n4  MA423          MA423 Fundamentals of Operations Research  SEM     2  Wed   \n0  MA424             MA424 Modelling in Operations Research  LEC     1  Mon   \n1  MA424             MA424 Modelling in Operations Research  SEM     1  Thu   \n2  MA424             MA424 Modelling in Operations Research  SEM     2  Fri   \n3  MA424             MA424 Modelling in Operations Research  WOR     1  Tue   \n4  MA424             MA424 Modelling in Operations Research  WOR     2  Wed   \n0  MA426  MA426 Dissertation in Operations Research &amp; An...  SEM     1  Mon   \n1  MA426  MA426 Dissertation in Operations Research &amp; An...  SEM     1  Thu   \n2  MA426  MA426 Dissertation in Operations Research &amp; An...  SEM     1  Thu   \n3  MA426  MA426 Dissertation in Operations Research &amp; An...  SEM     1  Thu   \n4  MA426  MA426 Dissertation in Operations Research &amp; An...  SEM     1  Thu   \n0  MA427                    MA427 Mathematical Optimisation  LEC     1  Mon   \n1  MA427                    MA427 Mathematical Optimisation  SEM     1  Tue   \n2  MA427                    MA427 Mathematical Optimisation  SEM     2  Tue   \n0  MA428                   MA428 Combinatorial Optimisation  LEC     1  Wed   \n1  MA428                   MA428 Combinatorial Optimisation  LEC     1  Wed   \n2  MA428                   MA428 Combinatorial Optimisation  LEC     1  Wed   \n3  MA428                   MA428 Combinatorial Optimisation  SEM     1  Tue   \n4  MA428                   MA428 Combinatorial Optimisation  SEM     2  Tue   \n0  MA498                  MA498 Dissertation in Mathematics  SEM     1  Thu   \n1  MA498                  MA498 Dissertation in Mathematics  SEM     1  Thu   \n2  MA498                  MA498 Dissertation in Mathematics  SEM     1  Thu   \n3  MA498                  MA498 Dissertation in Mathematics  SEM     1  Thu   \n0  ST449    ST449 Artificial Intelligence and Deep Learning  LEC     1  Wed   \n1  ST449    ST449 Artificial Intelligence and Deep Learning  SEM     1  Fri   \n\n        Room  Start Finish                 MT Wks                 LT Wks  \\\n0   NAB.1.04  13:00  15:00     1,2,3,4,5,7,8,9,10                          \n1  NAB.LG.01  13:00  15:00                      6                          \n2   NAB.1.04  13:00  16:00                                                 \n3   32L.G.15  15:00  16:30  2,3,4,5,6,7,8,9,10,11                          \n4   32L.G.17  12:30  14:00  2,3,4,5,6,7,8,9,10,11                          \n0   CBG.1.03  11:00  13:00   1,2,3,4,5,6,7,8,9,10                          \n1   STC.S018  09:30  11:00     2,3,4,5,6,7,8,9,10                          \n2   FAW.4.03  14:00  15:30     2,3,4,5,6,7,8,9,10                          \n3   FAW.4.03  09:00  11:00     2,3,4,5,6,7,8,9,10                          \n4   STC.S018  09:00  11:00     2,3,4,5,6,7,8,9,10                          \n0   FAW.2.04  14:00  16:00                     11                          \n1   CLM.5.02  16:00  18:00    1,2,4,6,7,8,9,10,11                          \n2   NAB.1.04  16:00  18:00                           1,2,3,5,7,8,9,10,11   \n3    STC.S08  17:00  19:00                                           4,6   \n4   NAB.1.04  16:00  18:00                                                 \n0   FAW.2.04  11:00  13:00                          1,2,3,4,5,6,7,8,9,10   \n1   PAN.1.01  09:00  10:30                         2,3,4,5,6,7,8,9,10,11   \n2   PAN.1.01  10:30  12:00                         2,3,4,5,6,7,8,9,10,11   \n0   FAW.2.04  13:00  15:00                          1,2,3,4,5,6,7,8,9,10   \n1   NAB.1.15  09:30  11:00                                                 \n2   NAB.1.15  14:00  15:30                                                 \n3   32L.G.24  12:30  14:00                         2,3,4,5,6,7,8,9,10,11   \n4   CBG.1.10  16:00  17:30                         2,3,4,5,6,7,8,9,10,11   \n0   CLM.5.02  16:00  18:00    1,2,4,6,7,8,9,10,11                          \n1   NAB.1.04  16:00  18:00                           1,2,3,5,7,8,9,10,11   \n2    STC.S08  17:00  19:00                                           4,6   \n3   NAB.1.04  16:00  18:00                                                 \n0   NAB.1.04  11:00  13:00                         1,2,3,4,5,7,8,9,10,11   \n1  32L.LG.18  14:30  16:00                         1,2,3,4,5,7,8,9,10,11   \n\n  ST Wks  \n0         \n1         \n2      1  \n3         \n4         \n0         \n1         \n2         \n3         \n4         \n0         \n1         \n2         \n3         \n4  1,6,7  \n0      1  \n1         \n2         \n0         \n1      1  \n2      1  \n3         \n4         \n0         \n1         \n2         \n3  1,6,7  \n0         \n1         ",
      "text/html": "<div>\n<style scoped>\n    .dataframe tbody tr th:only-of-type {\n        vertical-align: middle;\n    }\n\n    .dataframe tbody tr th {\n        vertical-align: top;\n    }\n\n    .dataframe thead th {\n        text-align: right;\n    }\n</style>\n<table border=\"1\" class=\"dataframe\">\n  <thead>\n    <tr style=\"text-align: right;\">\n      <th></th>\n      <th>Code</th>\n      <th>Title</th>\n      <th>Type</th>\n      <th>Group</th>\n      <th>Day</th>\n      <th>Room</th>\n      <th>Start</th>\n      <th>Finish</th>\n      <th>MT Wks</th>\n      <th>LT Wks</th>\n      <th>ST Wks</th>\n    </tr>\n  </thead>\n  <tbody>\n    <tr>\n      <th>0</th>\n      <td>MA423</td>\n      <td>MA423 Fundamentals of Operations Research</td>\n      <td>LEC</td>\n      <td>1</td>\n      <td>Tue</td>\n      <td>NAB.1.04</td>\n      <td>13:00</td>\n      <td>15:00</td>\n      <td>1,2,3,4,5,7,8,9,10</td>\n      <td></td>\n      <td></td>\n    </tr>\n    <tr>\n      <th>1</th>\n      <td>MA423</td>\n      <td>MA423 Fundamentals of Operations Research</td>\n      <td>LEC</td>\n      <td>1</td>\n      <td>Tue</td>\n      <td>NAB.LG.01</td>\n      <td>13:00</td>\n      <td>15:00</td>\n      <td>6</td>\n      <td></td>\n      <td></td>\n    </tr>\n    <tr>\n      <th>2</th>\n      <td>MA423</td>\n      <td>MA423 Fundamentals of Operations Research</td>\n      <td>LEC</td>\n      <td>1</td>\n      <td>Tue</td>\n      <td>NAB.1.04</td>\n      <td>13:00</td>\n      <td>16:00</td>\n      <td></td>\n      <td></td>\n      <td>1</td>\n    </tr>\n    <tr>\n      <th>3</th>\n      <td>MA423</td>\n      <td>MA423 Fundamentals of Operations Research</td>\n      <td>SEM</td>\n      <td>1</td>\n      <td>Wed</td>\n      <td>32L.G.15</td>\n      <td>15:00</td>\n      <td>16:30</td>\n      <td>2,3,4,5,6,7,8,9,10,11</td>\n      <td></td>\n      <td></td>\n    </tr>\n    <tr>\n      <th>4</th>\n      <td>MA423</td>\n      <td>MA423 Fundamentals of Operations Research</td>\n      <td>SEM</td>\n      <td>2</td>\n      <td>Wed</td>\n      <td>32L.G.17</td>\n      <td>12:30</td>\n      <td>14:00</td>\n      <td>2,3,4,5,6,7,8,9,10,11</td>\n      <td></td>\n      <td></td>\n    </tr>\n    <tr>\n      <th>0</th>\n      <td>MA424</td>\n      <td>MA424 Modelling in Operations Research</td>\n      <td>LEC</td>\n      <td>1</td>\n      <td>Mon</td>\n      <td>CBG.1.03</td>\n      <td>11:00</td>\n      <td>13:00</td>\n      <td>1,2,3,4,5,6,7,8,9,10</td>\n      <td></td>\n      <td></td>\n    </tr>\n    <tr>\n      <th>1</th>\n      <td>MA424</td>\n      <td>MA424 Modelling in Operations Research</td>\n      <td>SEM</td>\n      <td>1</td>\n      <td>Thu</td>\n      <td>STC.S018</td>\n      <td>09:30</td>\n      <td>11:00</td>\n      <td>2,3,4,5,6,7,8,9,10</td>\n      <td></td>\n      <td></td>\n    </tr>\n    <tr>\n      <th>2</th>\n      <td>MA424</td>\n      <td>MA424 Modelling in Operations Research</td>\n      <td>SEM</td>\n      <td>2</td>\n      <td>Fri</td>\n      <td>FAW.4.03</td>\n      <td>14:00</td>\n      <td>15:30</td>\n      <td>2,3,4,5,6,7,8,9,10</td>\n      <td></td>\n      <td></td>\n    </tr>\n    <tr>\n      <th>3</th>\n      <td>MA424</td>\n      <td>MA424 Modelling in Operations Research</td>\n      <td>WOR</td>\n      <td>1</td>\n      <td>Tue</td>\n      <td>FAW.4.03</td>\n      <td>09:00</td>\n      <td>11:00</td>\n      <td>2,3,4,5,6,7,8,9,10</td>\n      <td></td>\n      <td></td>\n    </tr>\n    <tr>\n      <th>4</th>\n      <td>MA424</td>\n      <td>MA424 Modelling in Operations Research</td>\n      <td>WOR</td>\n      <td>2</td>\n      <td>Wed</td>\n      <td>STC.S018</td>\n      <td>09:00</td>\n      <td>11:00</td>\n      <td>2,3,4,5,6,7,8,9,10</td>\n      <td></td>\n      <td></td>\n    </tr>\n    <tr>\n      <th>0</th>\n      <td>MA426</td>\n      <td>MA426 Dissertation in Operations Research &amp; An...</td>\n      <td>SEM</td>\n      <td>1</td>\n      <td>Mon</td>\n      <td>FAW.2.04</td>\n      <td>14:00</td>\n      <td>16:00</td>\n      <td>11</td>\n      <td></td>\n      <td></td>\n    </tr>\n    <tr>\n      <th>1</th>\n      <td>MA426</td>\n      <td>MA426 Dissertation in Operations Research &amp; An...</td>\n      <td>SEM</td>\n      <td>1</td>\n      <td>Thu</td>\n      <td>CLM.5.02</td>\n      <td>16:00</td>\n      <td>18:00</td>\n      <td>1,2,4,6,7,8,9,10,11</td>\n      <td></td>\n      <td></td>\n    </tr>\n    <tr>\n      <th>2</th>\n      <td>MA426</td>\n      <td>MA426 Dissertation in Operations Research &amp; An...</td>\n      <td>SEM</td>\n      <td>1</td>\n      <td>Thu</td>\n      <td>NAB.1.04</td>\n      <td>16:00</td>\n      <td>18:00</td>\n      <td></td>\n      <td>1,2,3,5,7,8,9,10,11</td>\n      <td></td>\n    </tr>\n    <tr>\n      <th>3</th>\n      <td>MA426</td>\n      <td>MA426 Dissertation in Operations Research &amp; An...</td>\n      <td>SEM</td>\n      <td>1</td>\n      <td>Thu</td>\n      <td>STC.S08</td>\n      <td>17:00</td>\n      <td>19:00</td>\n      <td></td>\n      <td>4,6</td>\n      <td></td>\n    </tr>\n    <tr>\n      <th>4</th>\n      <td>MA426</td>\n      <td>MA426 Dissertation in Operations Research &amp; An...</td>\n      <td>SEM</td>\n      <td>1</td>\n      <td>Thu</td>\n      <td>NAB.1.04</td>\n      <td>16:00</td>\n      <td>18:00</td>\n      <td></td>\n      <td></td>\n      <td>1,6,7</td>\n    </tr>\n    <tr>\n      <th>0</th>\n      <td>MA427</td>\n      <td>MA427 Mathematical Optimisation</td>\n      <td>LEC</td>\n      <td>1</td>\n      <td>Mon</td>\n      <td>FAW.2.04</td>\n      <td>11:00</td>\n      <td>13:00</td>\n      <td></td>\n      <td>1,2,3,4,5,6,7,8,9,10</td>\n      <td>1</td>\n    </tr>\n    <tr>\n      <th>1</th>\n      <td>MA427</td>\n      <td>MA427 Mathematical Optimisation</td>\n      <td>SEM</td>\n      <td>1</td>\n      <td>Tue</td>\n      <td>PAN.1.01</td>\n      <td>09:00</td>\n      <td>10:30</td>\n      <td></td>\n      <td>2,3,4,5,6,7,8,9,10,11</td>\n      <td></td>\n    </tr>\n    <tr>\n      <th>2</th>\n      <td>MA427</td>\n      <td>MA427 Mathematical Optimisation</td>\n      <td>SEM</td>\n      <td>2</td>\n      <td>Tue</td>\n      <td>PAN.1.01</td>\n      <td>10:30</td>\n      <td>12:00</td>\n      <td></td>\n      <td>2,3,4,5,6,7,8,9,10,11</td>\n      <td></td>\n    </tr>\n    <tr>\n      <th>0</th>\n      <td>MA428</td>\n      <td>MA428 Combinatorial Optimisation</td>\n      <td>LEC</td>\n      <td>1</td>\n      <td>Wed</td>\n      <td>FAW.2.04</td>\n      <td>13:00</td>\n      <td>15:00</td>\n      <td></td>\n      <td>1,2,3,4,5,6,7,8,9,10</td>\n      <td></td>\n    </tr>\n    <tr>\n      <th>1</th>\n      <td>MA428</td>\n      <td>MA428 Combinatorial Optimisation</td>\n      <td>LEC</td>\n      <td>1</td>\n      <td>Wed</td>\n      <td>NAB.1.15</td>\n      <td>09:30</td>\n      <td>11:00</td>\n      <td></td>\n      <td></td>\n      <td>1</td>\n    </tr>\n    <tr>\n      <th>2</th>\n      <td>MA428</td>\n      <td>MA428 Combinatorial Optimisation</td>\n      <td>LEC</td>\n      <td>1</td>\n      <td>Wed</td>\n      <td>NAB.1.15</td>\n      <td>14:00</td>\n      <td>15:30</td>\n      <td></td>\n      <td></td>\n      <td>1</td>\n    </tr>\n    <tr>\n      <th>3</th>\n      <td>MA428</td>\n      <td>MA428 Combinatorial Optimisation</td>\n      <td>SEM</td>\n      <td>1</td>\n      <td>Tue</td>\n      <td>32L.G.24</td>\n      <td>12:30</td>\n      <td>14:00</td>\n      <td></td>\n      <td>2,3,4,5,6,7,8,9,10,11</td>\n      <td></td>\n    </tr>\n    <tr>\n      <th>4</th>\n      <td>MA428</td>\n      <td>MA428 Combinatorial Optimisation</td>\n      <td>SEM</td>\n      <td>2</td>\n      <td>Tue</td>\n      <td>CBG.1.10</td>\n      <td>16:00</td>\n      <td>17:30</td>\n      <td></td>\n      <td>2,3,4,5,6,7,8,9,10,11</td>\n      <td></td>\n    </tr>\n    <tr>\n      <th>0</th>\n      <td>MA498</td>\n      <td>MA498 Dissertation in Mathematics</td>\n      <td>SEM</td>\n      <td>1</td>\n      <td>Thu</td>\n      <td>CLM.5.02</td>\n      <td>16:00</td>\n      <td>18:00</td>\n      <td>1,2,4,6,7,8,9,10,11</td>\n      <td></td>\n      <td></td>\n    </tr>\n    <tr>\n      <th>1</th>\n      <td>MA498</td>\n      <td>MA498 Dissertation in Mathematics</td>\n      <td>SEM</td>\n      <td>1</td>\n      <td>Thu</td>\n      <td>NAB.1.04</td>\n      <td>16:00</td>\n      <td>18:00</td>\n      <td></td>\n      <td>1,2,3,5,7,8,9,10,11</td>\n      <td></td>\n    </tr>\n    <tr>\n      <th>2</th>\n      <td>MA498</td>\n      <td>MA498 Dissertation in Mathematics</td>\n      <td>SEM</td>\n      <td>1</td>\n      <td>Thu</td>\n      <td>STC.S08</td>\n      <td>17:00</td>\n      <td>19:00</td>\n      <td></td>\n      <td>4,6</td>\n      <td></td>\n    </tr>\n    <tr>\n      <th>3</th>\n      <td>MA498</td>\n      <td>MA498 Dissertation in Mathematics</td>\n      <td>SEM</td>\n      <td>1</td>\n      <td>Thu</td>\n      <td>NAB.1.04</td>\n      <td>16:00</td>\n      <td>18:00</td>\n      <td></td>\n      <td></td>\n      <td>1,6,7</td>\n    </tr>\n    <tr>\n      <th>0</th>\n      <td>ST449</td>\n      <td>ST449 Artificial Intelligence and Deep Learning</td>\n      <td>LEC</td>\n      <td>1</td>\n      <td>Wed</td>\n      <td>NAB.1.04</td>\n      <td>11:00</td>\n      <td>13:00</td>\n      <td></td>\n      <td>1,2,3,4,5,7,8,9,10,11</td>\n      <td></td>\n    </tr>\n    <tr>\n      <th>1</th>\n      <td>ST449</td>\n      <td>ST449 Artificial Intelligence and Deep Learning</td>\n      <td>SEM</td>\n      <td>1</td>\n      <td>Fri</td>\n      <td>32L.LG.18</td>\n      <td>14:30</td>\n      <td>16:00</td>\n      <td></td>\n      <td>1,2,3,4,5,7,8,9,10,11</td>\n      <td></td>\n    </tr>\n  </tbody>\n</table>\n</div>"
     },
     "metadata": {}
    }
   ],
   "source": [
    "# display timetable for specific courses\n",
    "\n",
    "selected_course = ['MA423', 'MA424', 'MA427', 'MA428', 'ST449', 'MA498', 'MA426']\n",
    "mask0 = df['Code'].isin(selected_course)\n",
    "\n",
    "selection = df[mask0]\n",
    "display(selection)"
   ]
  },
  {
   "cell_type": "code",
   "execution_count": 6,
   "metadata": {},
   "outputs": [
    {
     "output_type": "error",
     "ename": "IndexError",
     "evalue": "string index out of range",
     "traceback": [
      "\u001b[1;31m---------------------------------------------------------------------------\u001b[0m",
      "\u001b[1;31mIndexError\u001b[0m                                Traceback (most recent call last)",
      "\u001b[1;32m&lt;ipython-input-6-849e579e7692&gt;\u001b[0m in \u001b[0;36m&lt;module&gt;\u001b[1;34m\u001b[0m\n\u001b[0;32m      3\u001b[0m \u001b[0myear\u001b[0m \u001b[1;33m=\u001b[0m \u001b[1;36m4\u001b[0m    \u001b[1;31m# other options are 1, 2 and 3\u001b[0m\u001b[1;33m\u001b[0m\u001b[1;33m\u001b[0m\u001b[0m\n\u001b[0;32m      4\u001b[0m \u001b[1;33m\u001b[0m\u001b[0m\n\u001b[1;32m----&gt; 5\u001b[1;33m \u001b[0mmask1\u001b[0m \u001b[1;33m=\u001b[0m \u001b[0mdf\u001b[0m\u001b[1;33m[\u001b[0m\u001b[1;34m&#39;Code&#39;\u001b[0m\u001b[1;33m]\u001b[0m\u001b[1;33m.\u001b[0m\u001b[0mapply\u001b[0m\u001b[1;33m(\u001b[0m\u001b[1;32mlambda\u001b[0m \u001b[0mx\u001b[0m\u001b[1;33m:\u001b[0m \u001b[0mx\u001b[0m\u001b[1;33m[\u001b[0m\u001b[1;36m2\u001b[0m\u001b[1;33m]\u001b[0m\u001b[1;33m==\u001b[0m\u001b[0mstr\u001b[0m\u001b[1;33m(\u001b[0m\u001b[0myear\u001b[0m\u001b[1;33m)\u001b[0m\u001b[1;33m)\u001b[0m\u001b[1;33m\u001b[0m\u001b[1;33m\u001b[0m\u001b[0m\n\u001b[0m\u001b[0;32m      6\u001b[0m \u001b[0mselection\u001b[0m \u001b[1;33m=\u001b[0m \u001b[0mdf\u001b[0m\u001b[1;33m[\u001b[0m\u001b[0mmask1\u001b[0m\u001b[1;33m]\u001b[0m\u001b[1;33m\u001b[0m\u001b[1;33m\u001b[0m\u001b[0m\n\u001b[0;32m      7\u001b[0m \u001b[0mdisplay\u001b[0m\u001b[1;33m(\u001b[0m\u001b[0mselection\u001b[0m\u001b[1;33m)\u001b[0m\u001b[1;33m\u001b[0m\u001b[1;33m\u001b[0m\u001b[0m\n",
      "\u001b[1;32m~\\Anaconda3\\lib\\site-packages\\pandas\\core\\series.py\u001b[0m in \u001b[0;36mapply\u001b[1;34m(self, func, convert_dtype, args, **kwds)\u001b[0m\n\u001b[0;32m   4198\u001b[0m             \u001b[1;32melse\u001b[0m\u001b[1;33m:\u001b[0m\u001b[1;33m\u001b[0m\u001b[1;33m\u001b[0m\u001b[0m\n\u001b[0;32m   4199\u001b[0m                 \u001b[0mvalues\u001b[0m \u001b[1;33m=\u001b[0m \u001b[0mself\u001b[0m\u001b[1;33m.\u001b[0m\u001b[0mastype\u001b[0m\u001b[1;33m(\u001b[0m\u001b[0mobject\u001b[0m\u001b[1;33m)\u001b[0m\u001b[1;33m.\u001b[0m\u001b[0m_values\u001b[0m\u001b[1;33m\u001b[0m\u001b[1;33m\u001b[0m\u001b[0m\n\u001b[1;32m-&gt; 4200\u001b[1;33m                 \u001b[0mmapped\u001b[0m \u001b[1;33m=\u001b[0m \u001b[0mlib\u001b[0m\u001b[1;33m.\u001b[0m\u001b[0mmap_infer\u001b[0m\u001b[1;33m(\u001b[0m\u001b[0mvalues\u001b[0m\u001b[1;33m,\u001b[0m \u001b[0mf\u001b[0m\u001b[1;33m,\u001b[0m \u001b[0mconvert\u001b[0m\u001b[1;33m=\u001b[0m\u001b[0mconvert_dtype\u001b[0m\u001b[1;33m)\u001b[0m\u001b[1;33m\u001b[0m\u001b[1;33m\u001b[0m\u001b[0m\n\u001b[0m\u001b[0;32m   4201\u001b[0m \u001b[1;33m\u001b[0m\u001b[0m\n\u001b[0;32m   4202\u001b[0m         \u001b[1;32mif\u001b[0m \u001b[0mlen\u001b[0m\u001b[1;33m(\u001b[0m\u001b[0mmapped\u001b[0m\u001b[1;33m)\u001b[0m \u001b[1;32mand\u001b[0m \u001b[0misinstance\u001b[0m\u001b[1;33m(\u001b[0m\u001b[0mmapped\u001b[0m\u001b[1;33m[\u001b[0m\u001b[1;36m0\u001b[0m\u001b[1;33m]\u001b[0m\u001b[1;33m,\u001b[0m \u001b[0mSeries\u001b[0m\u001b[1;33m)\u001b[0m\u001b[1;33m:\u001b[0m\u001b[1;33m\u001b[0m\u001b[1;33m\u001b[0m\u001b[0m\n",
      "\u001b[1;32mpandas\\_libs\\lib.pyx\u001b[0m in \u001b[0;36mpandas._libs.lib.map_infer\u001b[1;34m()\u001b[0m\n",
      "\u001b[1;32m&lt;ipython-input-6-849e579e7692&gt;\u001b[0m in \u001b[0;36m&lt;lambda&gt;\u001b[1;34m(x)\u001b[0m\n\u001b[0;32m      3\u001b[0m \u001b[0myear\u001b[0m \u001b[1;33m=\u001b[0m \u001b[1;36m4\u001b[0m    \u001b[1;31m# other options are 1, 2 and 3\u001b[0m\u001b[1;33m\u001b[0m\u001b[1;33m\u001b[0m\u001b[0m\n\u001b[0;32m      4\u001b[0m \u001b[1;33m\u001b[0m\u001b[0m\n\u001b[1;32m----&gt; 5\u001b[1;33m \u001b[0mmask1\u001b[0m \u001b[1;33m=\u001b[0m \u001b[0mdf\u001b[0m\u001b[1;33m[\u001b[0m\u001b[1;34m&#39;Code&#39;\u001b[0m\u001b[1;33m]\u001b[0m\u001b[1;33m.\u001b[0m\u001b[0mapply\u001b[0m\u001b[1;33m(\u001b[0m\u001b[1;32mlambda\u001b[0m \u001b[0mx\u001b[0m\u001b[1;33m:\u001b[0m \u001b[0mx\u001b[0m\u001b[1;33m[\u001b[0m\u001b[1;36m2\u001b[0m\u001b[1;33m]\u001b[0m\u001b[1;33m==\u001b[0m\u001b[0mstr\u001b[0m\u001b[1;33m(\u001b[0m\u001b[0myear\u001b[0m\u001b[1;33m)\u001b[0m\u001b[1;33m)\u001b[0m\u001b[1;33m\u001b[0m\u001b[1;33m\u001b[0m\u001b[0m\n\u001b[0m\u001b[0;32m      6\u001b[0m \u001b[0mselection\u001b[0m \u001b[1;33m=\u001b[0m \u001b[0mdf\u001b[0m\u001b[1;33m[\u001b[0m\u001b[0mmask1\u001b[0m\u001b[1;33m]\u001b[0m\u001b[1;33m\u001b[0m\u001b[1;33m\u001b[0m\u001b[0m\n\u001b[0;32m      7\u001b[0m \u001b[0mdisplay\u001b[0m\u001b[1;33m(\u001b[0m\u001b[0mselection\u001b[0m\u001b[1;33m)\u001b[0m\u001b[1;33m\u001b[0m\u001b[1;33m\u001b[0m\u001b[0m\n",
      "\u001b[1;31mIndexError\u001b[0m: string index out of range"
     ]
    }
   ],
   "source": [
    "# display timetable for all 4th year courses\n",
    "\n",
    "year = 4    # other options are 1, 2 and 3\n",
    "\n",
    "mask1 = df['Code'].apply(lambda x: x[2]==str(year))\n",
    "selection = df[mask1]\n",
    "display(selection)"
   ]
  },
  {
   "cell_type": "code",
   "execution_count": 18,
   "metadata": {},
   "outputs": [
    {
     "output_type": "display_data",
     "data": {
      "text/plain": "     Code                                              Title Type Group  Day  \\\n0   PH101                                        PH101 Logic  LEC     1  Mon   \n1   PH101                                        PH101 Logic  LEC     1  Mon   \n2   PH101                                        PH101 Logic  LEC     1  Fri   \n0   PH103  PH103 The Big Questions: An Introduction to Ph...  LEC     1  Tue   \n1   PH103  PH103 The Big Questions: An Introduction to Ph...  LEC     1  Tue   \n..    ...                                                ...  ...   ...  ...   \n2   PH502                          PH502 Reasoning and Logic  LEC     1  Fri   \n0   PH551  PH551 Research Seminar in the Philosophy of Na...  SEM     1  Mon   \n0   PH555  PH555 Research Seminar in the Philosophy of Ec...  SEM     1  Wed   \n1   PH555  PH555 Research Seminar in the Philosophy of Ec...  SEM     1  Wed   \n2   PH555  PH555 Research Seminar in the Philosophy of Ec...  SEM     1  Wed   \n\n         Room  Start Finish                 MT Wks                LT Wks  \\\n0    CLM.G.02  12:00  13:00   1,2,3,4,5,6,7,8,9,10  1,2,3,4,5,6,7,8,9,10   \n1          OT  09:00  10:00             2,3,4,9,10                         \n2    CLM.G.02  09:00  10:00                                    1,2,3,4,5   \n0   NAB.LG.08  12:00  13:00           1,2,5,6,9,10            3,5,6,9,10   \n1   NAB.LG.08  12:00  13:00                    3,4                         \n..        ...    ...    ...                    ...                   ...   \n2    CLM.G.02  09:00  10:00                                    1,2,3,4,5   \n0    LAK.2.06  14:00  15:30  2,3,4,5,6,7,8,9,10,11  1,2,3,4,5,6,7,8,9,10   \n0    LAK.2.06  17:00  19:00   1,2,3,4,5,6,7,8,9,10                         \n1    LAK.2.06  17:00  19:00                         1,2,3,4,5,6,7,8,9,10   \n2    LAK.2.06  17:00  19:00                                                \n\n             ST Wks  \n0                    \n1                    \n2                    \n0                    \n1                    \n..              ...  \n2                    \n0   1,2,3,4,5,6,7,8  \n0                    \n1                    \n2     1,2,3,4,5,6,7  \n\n[176 rows x 11 columns]",
      "text/html": "<div>\n<style scoped>\n    .dataframe tbody tr th:only-of-type {\n        vertical-align: middle;\n    }\n\n    .dataframe tbody tr th {\n        vertical-align: top;\n    }\n\n    .dataframe thead th {\n        text-align: right;\n    }\n</style>\n<table border=\"1\" class=\"dataframe\">\n  <thead>\n    <tr style=\"text-align: right;\">\n      <th></th>\n      <th>Code</th>\n      <th>Title</th>\n      <th>Type</th>\n      <th>Group</th>\n      <th>Day</th>\n      <th>Room</th>\n      <th>Start</th>\n      <th>Finish</th>\n      <th>MT Wks</th>\n      <th>LT Wks</th>\n      <th>ST Wks</th>\n    </tr>\n  </thead>\n  <tbody>\n    <tr>\n      <th>0</th>\n      <td>PH101</td>\n      <td>PH101 Logic</td>\n      <td>LEC</td>\n      <td>1</td>\n      <td>Mon</td>\n      <td>CLM.G.02</td>\n      <td>12:00</td>\n      <td>13:00</td>\n      <td>1,2,3,4,5,6,7,8,9,10</td>\n      <td>1,2,3,4,5,6,7,8,9,10</td>\n      <td></td>\n    </tr>\n    <tr>\n      <th>1</th>\n      <td>PH101</td>\n      <td>PH101 Logic</td>\n      <td>LEC</td>\n      <td>1</td>\n      <td>Mon</td>\n      <td>OT</td>\n      <td>09:00</td>\n      <td>10:00</td>\n      <td>2,3,4,9,10</td>\n      <td></td>\n      <td></td>\n    </tr>\n    <tr>\n      <th>2</th>\n      <td>PH101</td>\n      <td>PH101 Logic</td>\n      <td>LEC</td>\n      <td>1</td>\n      <td>Fri</td>\n      <td>CLM.G.02</td>\n      <td>09:00</td>\n      <td>10:00</td>\n      <td></td>\n      <td>1,2,3,4,5</td>\n      <td></td>\n    </tr>\n    <tr>\n      <th>0</th>\n      <td>PH103</td>\n      <td>PH103 The Big Questions: An Introduction to Ph...</td>\n      <td>LEC</td>\n      <td>1</td>\n      <td>Tue</td>\n      <td>NAB.LG.08</td>\n      <td>12:00</td>\n      <td>13:00</td>\n      <td>1,2,5,6,9,10</td>\n      <td>3,5,6,9,10</td>\n      <td></td>\n    </tr>\n    <tr>\n      <th>1</th>\n      <td>PH103</td>\n      <td>PH103 The Big Questions: An Introduction to Ph...</td>\n      <td>LEC</td>\n      <td>1</td>\n      <td>Tue</td>\n      <td>NAB.LG.08</td>\n      <td>12:00</td>\n      <td>13:00</td>\n      <td>3,4</td>\n      <td></td>\n      <td></td>\n    </tr>\n    <tr>\n      <th>...</th>\n      <td>...</td>\n      <td>...</td>\n      <td>...</td>\n      <td>...</td>\n      <td>...</td>\n      <td>...</td>\n      <td>...</td>\n      <td>...</td>\n      <td>...</td>\n      <td>...</td>\n      <td>...</td>\n    </tr>\n    <tr>\n      <th>2</th>\n      <td>PH502</td>\n      <td>PH502 Reasoning and Logic</td>\n      <td>LEC</td>\n      <td>1</td>\n      <td>Fri</td>\n      <td>CLM.G.02</td>\n      <td>09:00</td>\n      <td>10:00</td>\n      <td></td>\n      <td>1,2,3,4,5</td>\n      <td></td>\n    </tr>\n    <tr>\n      <th>0</th>\n      <td>PH551</td>\n      <td>PH551 Research Seminar in the Philosophy of Na...</td>\n      <td>SEM</td>\n      <td>1</td>\n      <td>Mon</td>\n      <td>LAK.2.06</td>\n      <td>14:00</td>\n      <td>15:30</td>\n      <td>2,3,4,5,6,7,8,9,10,11</td>\n      <td>1,2,3,4,5,6,7,8,9,10</td>\n      <td>1,2,3,4,5,6,7,8</td>\n    </tr>\n    <tr>\n      <th>0</th>\n      <td>PH555</td>\n      <td>PH555 Research Seminar in the Philosophy of Ec...</td>\n      <td>SEM</td>\n      <td>1</td>\n      <td>Wed</td>\n      <td>LAK.2.06</td>\n      <td>17:00</td>\n      <td>19:00</td>\n      <td>1,2,3,4,5,6,7,8,9,10</td>\n      <td></td>\n      <td></td>\n    </tr>\n    <tr>\n      <th>1</th>\n      <td>PH555</td>\n      <td>PH555 Research Seminar in the Philosophy of Ec...</td>\n      <td>SEM</td>\n      <td>1</td>\n      <td>Wed</td>\n      <td>LAK.2.06</td>\n      <td>17:00</td>\n      <td>19:00</td>\n      <td></td>\n      <td>1,2,3,4,5,6,7,8,9,10</td>\n      <td></td>\n    </tr>\n    <tr>\n      <th>2</th>\n      <td>PH555</td>\n      <td>PH555 Research Seminar in the Philosophy of Ec...</td>\n      <td>SEM</td>\n      <td>1</td>\n      <td>Wed</td>\n      <td>LAK.2.06</td>\n      <td>17:00</td>\n      <td>19:00</td>\n      <td></td>\n      <td></td>\n      <td>1,2,3,4,5,6,7</td>\n    </tr>\n  </tbody>\n</table>\n<p>176 rows × 11 columns</p>\n</div>"
     },
     "metadata": {}
    }
   ],
   "source": [
    "# display timetable for all Philosophy courses\n",
    "\n",
    "subject = 'PH'   # other options are 'MA', 'ST', 'GV', 'LL' etc.\n",
    "\n",
    "mask2 = df['Code'].apply(lambda x: x[:2] in [subject])\n",
    "selection = df[mask2]\n",
    "display(selection)"
   ]
  },
  {
   "cell_type": "code",
   "execution_count": 21,
   "metadata": {},
   "outputs": [
    {
     "output_type": "display_data",
     "data": {
      "text/plain": "     Code                        Title Type Group  Day       Room  Start  \\\n0   PH400  PH400 Philosophy of Science  LEC     1  Mon   NAB.1.04  13:00   \n1   PH400  PH400 Philosophy of Science  LEC     1  Mon  NAB.LG.03  13:00   \n2   PH400  PH400 Philosophy of Science  LEC     1  Mon  NAB.LG.01  13:00   \n3   PH400  PH400 Philosophy of Science  SEM     1  Tue   PAN.3.02  16:00   \n4   PH400  PH400 Philosophy of Science  SEM     1  Tue   PAN.1.04  16:00   \n..    ...                          ...  ...   ...  ...        ...    ...   \n0   PH458    PH458 Evidence and Policy  LEC     1  Wed   NAB.2.16  14:00   \n1   PH458    PH458 Evidence and Policy  LEC     1  Mon   NAB.1.09  09:00   \n2   PH458    PH458 Evidence and Policy  SEM     1  Thu   NAB.1.19  17:00   \n3   PH458    PH458 Evidence and Policy  SEM     2  Thu   PAN.1.04  15:00   \n4   PH458    PH458 Evidence and Policy  SEM     3  Thu   PAN.1.04  13:30   \n\n   Finish                 MT Wks                LT Wks ST Wks  \n0   14:00     1,2,3,4,5,7,8,9,10                               \n1   14:00                      6                     6         \n2   14:00                           1,2,3,4,5,7,8,9,10         \n3   17:30   1,2,3,4,5,6,7,8,9,10  1,2,3,4,5,6,7,8,9,10         \n4   17:30                     11                               \n..    ...                    ...                   ...    ...  \n0   15:00    1,2,3,4,7,8,9,10,11                               \n1   10:00                      7                               \n2   18:30  1,2,3,4,6,7,8,9,10,11                               \n3   16:30  1,2,3,4,6,7,8,9,10,11                               \n4   15:00  1,2,3,4,6,7,8,9,10,11                               \n\n[101 rows x 11 columns]",
      "text/html": "<div>\n<style scoped>\n    .dataframe tbody tr th:only-of-type {\n        vertical-align: middle;\n    }\n\n    .dataframe tbody tr th {\n        vertical-align: top;\n    }\n\n    .dataframe thead th {\n        text-align: right;\n    }\n</style>\n<table border=\"1\" class=\"dataframe\">\n  <thead>\n    <tr style=\"text-align: right;\">\n      <th></th>\n      <th>Code</th>\n      <th>Title</th>\n      <th>Type</th>\n      <th>Group</th>\n      <th>Day</th>\n      <th>Room</th>\n      <th>Start</th>\n      <th>Finish</th>\n      <th>MT Wks</th>\n      <th>LT Wks</th>\n      <th>ST Wks</th>\n    </tr>\n  </thead>\n  <tbody>\n    <tr>\n      <th>0</th>\n      <td>PH400</td>\n      <td>PH400 Philosophy of Science</td>\n      <td>LEC</td>\n      <td>1</td>\n      <td>Mon</td>\n      <td>NAB.1.04</td>\n      <td>13:00</td>\n      <td>14:00</td>\n      <td>1,2,3,4,5,7,8,9,10</td>\n      <td></td>\n      <td></td>\n    </tr>\n    <tr>\n      <th>1</th>\n      <td>PH400</td>\n      <td>PH400 Philosophy of Science</td>\n      <td>LEC</td>\n      <td>1</td>\n      <td>Mon</td>\n      <td>NAB.LG.03</td>\n      <td>13:00</td>\n      <td>14:00</td>\n      <td>6</td>\n      <td>6</td>\n      <td></td>\n    </tr>\n    <tr>\n      <th>2</th>\n      <td>PH400</td>\n      <td>PH400 Philosophy of Science</td>\n      <td>LEC</td>\n      <td>1</td>\n      <td>Mon</td>\n      <td>NAB.LG.01</td>\n      <td>13:00</td>\n      <td>14:00</td>\n      <td></td>\n      <td>1,2,3,4,5,7,8,9,10</td>\n      <td></td>\n    </tr>\n    <tr>\n      <th>3</th>\n      <td>PH400</td>\n      <td>PH400 Philosophy of Science</td>\n      <td>SEM</td>\n      <td>1</td>\n      <td>Tue</td>\n      <td>PAN.3.02</td>\n      <td>16:00</td>\n      <td>17:30</td>\n      <td>1,2,3,4,5,6,7,8,9,10</td>\n      <td>1,2,3,4,5,6,7,8,9,10</td>\n      <td></td>\n    </tr>\n    <tr>\n      <th>4</th>\n      <td>PH400</td>\n      <td>PH400 Philosophy of Science</td>\n      <td>SEM</td>\n      <td>1</td>\n      <td>Tue</td>\n      <td>PAN.1.04</td>\n      <td>16:00</td>\n      <td>17:30</td>\n      <td>11</td>\n      <td></td>\n      <td></td>\n    </tr>\n    <tr>\n      <th>...</th>\n      <td>...</td>\n      <td>...</td>\n      <td>...</td>\n      <td>...</td>\n      <td>...</td>\n      <td>...</td>\n      <td>...</td>\n      <td>...</td>\n      <td>...</td>\n      <td>...</td>\n      <td>...</td>\n    </tr>\n    <tr>\n      <th>0</th>\n      <td>PH458</td>\n      <td>PH458 Evidence and Policy</td>\n      <td>LEC</td>\n      <td>1</td>\n      <td>Wed</td>\n      <td>NAB.2.16</td>\n      <td>14:00</td>\n      <td>15:00</td>\n      <td>1,2,3,4,7,8,9,10,11</td>\n      <td></td>\n      <td></td>\n    </tr>\n    <tr>\n      <th>1</th>\n      <td>PH458</td>\n      <td>PH458 Evidence and Policy</td>\n      <td>LEC</td>\n      <td>1</td>\n      <td>Mon</td>\n      <td>NAB.1.09</td>\n      <td>09:00</td>\n      <td>10:00</td>\n      <td>7</td>\n      <td></td>\n      <td></td>\n    </tr>\n    <tr>\n      <th>2</th>\n      <td>PH458</td>\n      <td>PH458 Evidence and Policy</td>\n      <td>SEM</td>\n      <td>1</td>\n      <td>Thu</td>\n      <td>NAB.1.19</td>\n      <td>17:00</td>\n      <td>18:30</td>\n      <td>1,2,3,4,6,7,8,9,10,11</td>\n      <td></td>\n      <td></td>\n    </tr>\n    <tr>\n      <th>3</th>\n      <td>PH458</td>\n      <td>PH458 Evidence and Policy</td>\n      <td>SEM</td>\n      <td>2</td>\n      <td>Thu</td>\n      <td>PAN.1.04</td>\n      <td>15:00</td>\n      <td>16:30</td>\n      <td>1,2,3,4,6,7,8,9,10,11</td>\n      <td></td>\n      <td></td>\n    </tr>\n    <tr>\n      <th>4</th>\n      <td>PH458</td>\n      <td>PH458 Evidence and Policy</td>\n      <td>SEM</td>\n      <td>3</td>\n      <td>Thu</td>\n      <td>PAN.1.04</td>\n      <td>13:30</td>\n      <td>15:00</td>\n      <td>1,2,3,4,6,7,8,9,10,11</td>\n      <td></td>\n      <td></td>\n    </tr>\n  </tbody>\n</table>\n<p>101 rows × 11 columns</p>\n</div>"
     },
     "metadata": {}
    }
   ],
   "source": [
    "# display timetable for all Philosophy 4th year courses\n",
    "\n",
    "mask2 = df['Code'].apply(lambda x: x[:2] in [subject])\n",
    "selection = df[mask1 & mask2]\n",
    "display(selection)"
   ]
  },
  {
   "cell_type": "code",
   "execution_count": null,
   "metadata": {},
   "outputs": [],
   "source": []
  }
 ],
 "metadata": {
  "kernelspec": {
   "display_name": "Python 3",
   "language": "python",
   "name": "python3"
  },
  "language_info": {
   "codemirror_mode": {
    "name": "ipython",
    "version": 3
   },
   "file_extension": ".py",
   "mimetype": "text/x-python",
   "name": "python",
   "nbconvert_exporter": "python",
   "pygments_lexer": "ipython3",
   "version": "3.7.1-final"
  }
 },
 "nbformat": 4,
 "nbformat_minor": 2
}